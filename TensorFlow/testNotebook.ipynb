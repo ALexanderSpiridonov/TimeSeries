{
 "cells": [
  {
   "cell_type": "markdown",
   "id": "5d9c5b73",
   "metadata": {},
   "source": [
    "# TEST NOTEBOOK"
   ]
  },
  {
   "cell_type": "code",
   "execution_count": 1,
   "id": "5025f99c",
   "metadata": {},
   "outputs": [],
   "source": [
    "import os\n",
    "os.chdir(\"..\")"
   ]
  },
  {
   "cell_type": "code",
   "execution_count": 2,
   "id": "d13b0470",
   "metadata": {},
   "outputs": [],
   "source": [
    "import pandas as pd\n",
    "from utils import ROOT_DIR, plot_series"
   ]
  },
  {
   "cell_type": "code",
   "execution_count": 3,
   "id": "5b04a515",
   "metadata": {},
   "outputs": [],
   "source": [
    "import matplotlib.pyplot as plt\n",
    "import tensorflow as tf\n",
    "from tensorflow import keras"
   ]
  },
  {
   "cell_type": "code",
   "execution_count": null,
   "id": "3f7509ea",
   "metadata": {},
   "outputs": [],
   "source": []
  },
  {
   "cell_type": "code",
   "execution_count": 4,
   "id": "5ed42f29",
   "metadata": {},
   "outputs": [
    {
     "data": {
      "text/plain": [
       "'/Users/asp/Documents/!!!Python/TimeSeries'"
      ]
     },
     "execution_count": 4,
     "metadata": {},
     "output_type": "execute_result"
    }
   ],
   "source": [
    "ROOT_DIR"
   ]
  },
  {
   "cell_type": "markdown",
   "id": "09bb258b",
   "metadata": {},
   "source": [
    "READ DATA"
   ]
  },
  {
   "cell_type": "code",
   "execution_count": 5,
   "id": "9bc788d6",
   "metadata": {},
   "outputs": [],
   "source": [
    "data = pd.read_excel(ROOT_DIR + '/data/Historico acciones.xlsx')"
   ]
  },
  {
   "cell_type": "code",
   "execution_count": 6,
   "id": "b05a6c07",
   "metadata": {},
   "outputs": [
    {
     "data": {
      "text/html": [
       "<div>\n",
       "<style scoped>\n",
       "    .dataframe tbody tr th:only-of-type {\n",
       "        vertical-align: middle;\n",
       "    }\n",
       "\n",
       "    .dataframe tbody tr th {\n",
       "        vertical-align: top;\n",
       "    }\n",
       "\n",
       "    .dataframe thead th {\n",
       "        text-align: right;\n",
       "    }\n",
       "</style>\n",
       "<table border=\"1\" class=\"dataframe\">\n",
       "  <thead>\n",
       "    <tr style=\"text-align: right;\">\n",
       "      <th></th>\n",
       "      <th>Nemotecnico</th>\n",
       "      <th>Date</th>\n",
       "      <th>Quantity</th>\n",
       "      <th>$ Volum</th>\n",
       "      <th>Close price</th>\n",
       "      <th>Max price</th>\n",
       "      <th>Avg. Price</th>\n",
       "      <th>Min Price</th>\n",
       "      <th>variat</th>\n",
       "      <th>$ variat</th>\n",
       "    </tr>\n",
       "  </thead>\n",
       "  <tbody>\n",
       "    <tr>\n",
       "      <th>0</th>\n",
       "      <td>PFBCOLOM</td>\n",
       "      <td>2020-10-09</td>\n",
       "      <td>159771</td>\n",
       "      <td>4.038280e+09</td>\n",
       "      <td>25300.0</td>\n",
       "      <td>25300.0</td>\n",
       "      <td>25275.43</td>\n",
       "      <td>25150.0</td>\n",
       "      <td>0.0048</td>\n",
       "      <td>120.0</td>\n",
       "    </tr>\n",
       "    <tr>\n",
       "      <th>1</th>\n",
       "      <td>PFBCOLOM</td>\n",
       "      <td>2020-10-13</td>\n",
       "      <td>1004966</td>\n",
       "      <td>2.465825e+10</td>\n",
       "      <td>24580.0</td>\n",
       "      <td>25200.0</td>\n",
       "      <td>24536.40</td>\n",
       "      <td>24310.0</td>\n",
       "      <td>-0.0285</td>\n",
       "      <td>-720.0</td>\n",
       "    </tr>\n",
       "    <tr>\n",
       "      <th>2</th>\n",
       "      <td>PFBCOLOM</td>\n",
       "      <td>2020-10-14</td>\n",
       "      <td>958577</td>\n",
       "      <td>2.338765e+10</td>\n",
       "      <td>24760.0</td>\n",
       "      <td>24760.0</td>\n",
       "      <td>24398.30</td>\n",
       "      <td>24020.0</td>\n",
       "      <td>0.0073</td>\n",
       "      <td>180.0</td>\n",
       "    </tr>\n",
       "    <tr>\n",
       "      <th>3</th>\n",
       "      <td>PFBCOLOM</td>\n",
       "      <td>2020-10-15</td>\n",
       "      <td>651960</td>\n",
       "      <td>1.593465e+10</td>\n",
       "      <td>24400.0</td>\n",
       "      <td>24570.0</td>\n",
       "      <td>24441.14</td>\n",
       "      <td>24300.0</td>\n",
       "      <td>-0.0145</td>\n",
       "      <td>-360.0</td>\n",
       "    </tr>\n",
       "    <tr>\n",
       "      <th>4</th>\n",
       "      <td>PFBCOLOM</td>\n",
       "      <td>2020-10-16</td>\n",
       "      <td>358315</td>\n",
       "      <td>8.836055e+09</td>\n",
       "      <td>24730.0</td>\n",
       "      <td>24750.0</td>\n",
       "      <td>24660.02</td>\n",
       "      <td>24300.0</td>\n",
       "      <td>0.0135</td>\n",
       "      <td>330.0</td>\n",
       "    </tr>\n",
       "  </tbody>\n",
       "</table>\n",
       "</div>"
      ],
      "text/plain": [
       "  Nemotecnico       Date  Quantity       $ Volum  Close price  Max price  \\\n",
       "0  PFBCOLOM   2020-10-09    159771  4.038280e+09      25300.0    25300.0   \n",
       "1  PFBCOLOM   2020-10-13   1004966  2.465825e+10      24580.0    25200.0   \n",
       "2  PFBCOLOM   2020-10-14    958577  2.338765e+10      24760.0    24760.0   \n",
       "3  PFBCOLOM   2020-10-15    651960  1.593465e+10      24400.0    24570.0   \n",
       "4  PFBCOLOM   2020-10-16    358315  8.836055e+09      24730.0    24750.0   \n",
       "\n",
       "   Avg. Price  Min Price  variat  $ variat  \n",
       "0    25275.43    25150.0  0.0048     120.0  \n",
       "1    24536.40    24310.0 -0.0285    -720.0  \n",
       "2    24398.30    24020.0  0.0073     180.0  \n",
       "3    24441.14    24300.0 -0.0145    -360.0  \n",
       "4    24660.02    24300.0  0.0135     330.0  "
      ]
     },
     "execution_count": 6,
     "metadata": {},
     "output_type": "execute_result"
    }
   ],
   "source": [
    "data.head()"
   ]
  },
  {
   "cell_type": "code",
   "execution_count": 7,
   "id": "5648267f",
   "metadata": {},
   "outputs": [
    {
     "data": {
      "text/html": [
       "<div>\n",
       "<style scoped>\n",
       "    .dataframe tbody tr th:only-of-type {\n",
       "        vertical-align: middle;\n",
       "    }\n",
       "\n",
       "    .dataframe tbody tr th {\n",
       "        vertical-align: top;\n",
       "    }\n",
       "\n",
       "    .dataframe thead th {\n",
       "        text-align: right;\n",
       "    }\n",
       "</style>\n",
       "<table border=\"1\" class=\"dataframe\">\n",
       "  <thead>\n",
       "    <tr style=\"text-align: right;\">\n",
       "      <th></th>\n",
       "      <th>Quantity</th>\n",
       "      <th>$ Volum</th>\n",
       "      <th>Close price</th>\n",
       "      <th>Max price</th>\n",
       "      <th>Avg. Price</th>\n",
       "      <th>Min Price</th>\n",
       "      <th>variat</th>\n",
       "      <th>$ variat</th>\n",
       "    </tr>\n",
       "  </thead>\n",
       "  <tbody>\n",
       "    <tr>\n",
       "      <th>count</th>\n",
       "      <td>3.094000e+03</td>\n",
       "      <td>3.094000e+03</td>\n",
       "      <td>3094.00000</td>\n",
       "      <td>3094.000000</td>\n",
       "      <td>3094.000000</td>\n",
       "      <td>3094.00000</td>\n",
       "      <td>3094.000000</td>\n",
       "      <td>3094.000000</td>\n",
       "    </tr>\n",
       "    <tr>\n",
       "      <th>mean</th>\n",
       "      <td>9.528060e+05</td>\n",
       "      <td>4.455778e+09</td>\n",
       "      <td>15997.93775</td>\n",
       "      <td>15857.136522</td>\n",
       "      <td>15900.386697</td>\n",
       "      <td>15539.73956</td>\n",
       "      <td>0.018579</td>\n",
       "      <td>13.807886</td>\n",
       "    </tr>\n",
       "    <tr>\n",
       "      <th>std</th>\n",
       "      <td>3.351664e+06</td>\n",
       "      <td>9.171985e+09</td>\n",
       "      <td>16111.15277</td>\n",
       "      <td>16233.802105</td>\n",
       "      <td>16083.443958</td>\n",
       "      <td>15923.72737</td>\n",
       "      <td>0.751177</td>\n",
       "      <td>394.067522</td>\n",
       "    </tr>\n",
       "    <tr>\n",
       "      <th>min</th>\n",
       "      <td>0.000000e+00</td>\n",
       "      <td>0.000000e+00</td>\n",
       "      <td>193.10000</td>\n",
       "      <td>0.000000</td>\n",
       "      <td>0.000000</td>\n",
       "      <td>0.00000</td>\n",
       "      <td>-7.890000</td>\n",
       "      <td>-2460.000000</td>\n",
       "    </tr>\n",
       "    <tr>\n",
       "      <th>25%</th>\n",
       "      <td>3.383350e+04</td>\n",
       "      <td>2.544954e+08</td>\n",
       "      <td>4300.00000</td>\n",
       "      <td>4140.000000</td>\n",
       "      <td>4219.087500</td>\n",
       "      <td>4090.00000</td>\n",
       "      <td>-0.008775</td>\n",
       "      <td>-60.000000</td>\n",
       "    </tr>\n",
       "    <tr>\n",
       "      <th>50%</th>\n",
       "      <td>1.255985e+05</td>\n",
       "      <td>1.266830e+09</td>\n",
       "      <td>10820.00000</td>\n",
       "      <td>10700.000000</td>\n",
       "      <td>10776.205000</td>\n",
       "      <td>10600.00000</td>\n",
       "      <td>0.000000</td>\n",
       "      <td>0.000000</td>\n",
       "    </tr>\n",
       "    <tr>\n",
       "      <th>75%</th>\n",
       "      <td>4.048372e+05</td>\n",
       "      <td>4.798388e+09</td>\n",
       "      <td>24327.50000</td>\n",
       "      <td>24552.500000</td>\n",
       "      <td>24340.827500</td>\n",
       "      <td>24000.00000</td>\n",
       "      <td>0.011300</td>\n",
       "      <td>85.000000</td>\n",
       "    </tr>\n",
       "    <tr>\n",
       "      <th>max</th>\n",
       "      <td>8.864471e+07</td>\n",
       "      <td>2.245649e+11</td>\n",
       "      <td>83400.00000</td>\n",
       "      <td>83400.000000</td>\n",
       "      <td>83097.080000</td>\n",
       "      <td>81950.00000</td>\n",
       "      <td>8.090000</td>\n",
       "      <td>4800.000000</td>\n",
       "    </tr>\n",
       "  </tbody>\n",
       "</table>\n",
       "</div>"
      ],
      "text/plain": [
       "           Quantity       $ Volum  Close price     Max price    Avg. Price  \\\n",
       "count  3.094000e+03  3.094000e+03   3094.00000   3094.000000   3094.000000   \n",
       "mean   9.528060e+05  4.455778e+09  15997.93775  15857.136522  15900.386697   \n",
       "std    3.351664e+06  9.171985e+09  16111.15277  16233.802105  16083.443958   \n",
       "min    0.000000e+00  0.000000e+00    193.10000      0.000000      0.000000   \n",
       "25%    3.383350e+04  2.544954e+08   4300.00000   4140.000000   4219.087500   \n",
       "50%    1.255985e+05  1.266830e+09  10820.00000  10700.000000  10776.205000   \n",
       "75%    4.048372e+05  4.798388e+09  24327.50000  24552.500000  24340.827500   \n",
       "max    8.864471e+07  2.245649e+11  83400.00000  83400.000000  83097.080000   \n",
       "\n",
       "         Min Price       variat     $ variat  \n",
       "count   3094.00000  3094.000000  3094.000000  \n",
       "mean   15539.73956     0.018579    13.807886  \n",
       "std    15923.72737     0.751177   394.067522  \n",
       "min        0.00000    -7.890000 -2460.000000  \n",
       "25%     4090.00000    -0.008775   -60.000000  \n",
       "50%    10600.00000     0.000000     0.000000  \n",
       "75%    24000.00000     0.011300    85.000000  \n",
       "max    81950.00000     8.090000  4800.000000  "
      ]
     },
     "execution_count": 7,
     "metadata": {},
     "output_type": "execute_result"
    }
   ],
   "source": [
    "data.describe()"
   ]
  },
  {
   "cell_type": "code",
   "execution_count": 8,
   "id": "92e59c9e",
   "metadata": {},
   "outputs": [],
   "source": [
    "data.sort_values('Date', inplace = True)"
   ]
  },
  {
   "cell_type": "markdown",
   "id": "9a386462",
   "metadata": {},
   "source": [
    "# BASELINE"
   ]
  },
  {
   "cell_type": "code",
   "execution_count": 9,
   "id": "32e2f230",
   "metadata": {},
   "outputs": [
    {
     "data": {
      "image/png": "[encoded data removed]",
      "text/plain": [
       "<Figure size 1080x360 with 1 Axes>"
      ]
     },
     "metadata": {
      "needs_background": "light"
     },
     "output_type": "display_data"
    }
   ],
   "source": [
    "plot_series(data['Date'], data['Close price'])"
   ]
  },
  {
   "cell_type": "code",
   "execution_count": 25,
   "id": "7027ea85",
   "metadata": {},
   "outputs": [],
   "source": [
    "df = data[['Date', 'Close price']]\n",
    "df.index = df['Date']\n",
    "df = df.drop('Date', axis = 1)"
   ]
  },
  {
   "cell_type": "code",
   "execution_count": 38,
   "id": "2618774e",
   "metadata": {},
   "outputs": [
    {
     "data": {
      "text/plain": [
       "<AxesSubplot:xlabel='Date'>"
      ]
     },
     "execution_count": 38,
     "metadata": {},
     "output_type": "execute_result"
    },
    {
     "data": {
      "image/png": "[encoded data removed]",
      "text/plain": [
       "<Figure size 1080x360 with 1 Axes>"
      ]
     },
     "metadata": {
      "needs_background": "light"
     },
     "output_type": "display_data"
    }
   ],
   "source": [
    "df['2021-04-05':'2021-04-05'].plot(figsize = (15, 5))"
   ]
  },
  {
   "cell_type": "markdown",
   "id": "4cce36ae",
   "metadata": {},
   "source": [
    "- there is no time in the data\n",
    "- if agregate closing price with mean for each day there are not enought data (only 119 rows/days)\n",
    "- for test case I will remove weekends and gaps between dates and assume that each datapoint is one tieme stamp and all timestamps is made with equal distance. "
   ]
  },
  {
   "cell_type": "code",
   "execution_count": 39,
   "id": "645872a9",
   "metadata": {},
   "outputs": [],
   "source": [
    "temp = df['2021-04-05':'2021-04-05']"
   ]
  },
  {
   "cell_type": "code",
   "execution_count": 42,
   "id": "5727b20b",
   "metadata": {},
   "outputs": [],
   "source": [
    "temp.index = range(temp.shape[0])"
   ]
  },
  {
   "cell_type": "code",
   "execution_count": 43,
   "id": "56d68c6e",
   "metadata": {},
   "outputs": [
    {
     "data": {
      "text/plain": [
       "<AxesSubplot:>"
      ]
     },
     "execution_count": 43,
     "metadata": {},
     "output_type": "execute_result"
    },
    {
     "data": {
      "image/png": "[encoded data removed]",
      "text/plain": [
       "<Figure size 432x288 with 1 Axes>"
      ]
     },
     "metadata": {
      "needs_background": "light"
     },
     "output_type": "display_data"
    }
   ],
   "source": [
    "temp.plot()"
   ]
  },
  {
   "cell_type": "code",
   "execution_count": 44,
   "id": "db24278c",
   "metadata": {},
   "outputs": [
    {
     "data": {
      "text/plain": [
       "(26, 1)"
      ]
     },
     "execution_count": 44,
     "metadata": {},
     "output_type": "execute_result"
    }
   ],
   "source": [
    "temp.shape"
   ]
  },
  {
   "cell_type": "code",
   "execution_count": 46,
   "id": "e6f9d566",
   "metadata": {},
   "outputs": [
    {
     "data": {
      "text/plain": [
       "Timestamp('2020-10-09 00:00:00')"
      ]
     },
     "execution_count": 46,
     "metadata": {},
     "output_type": "execute_result"
    }
   ],
   "source": [
    "df.index[0]"
   ]
  },
  {
   "cell_type": "code",
   "execution_count": 47,
   "id": "53263fba",
   "metadata": {},
   "outputs": [
    {
     "data": {
      "text/plain": [
       "Timestamp('2020-10-09 00:00:00')"
      ]
     },
     "execution_count": 47,
     "metadata": {},
     "output_type": "execute_result"
    }
   ],
   "source": [
    "df.index[1]"
   ]
  },
  {
   "cell_type": "code",
   "execution_count": 48,
   "id": "8142519b",
   "metadata": {},
   "outputs": [
    {
     "data": {
      "text/plain": [
       "Timestamp('2020-10-09 00:00:00')"
      ]
     },
     "execution_count": 48,
     "metadata": {},
     "output_type": "execute_result"
    }
   ],
   "source": [
    "df.index[2]"
   ]
  },
  {
   "cell_type": "code",
   "execution_count": 50,
   "id": "d57b22ef",
   "metadata": {},
   "outputs": [
    {
     "data": {
      "text/html": [
       "<div>\n",
       "<style scoped>\n",
       "    .dataframe tbody tr th:only-of-type {\n",
       "        vertical-align: middle;\n",
       "    }\n",
       "\n",
       "    .dataframe tbody tr th {\n",
       "        vertical-align: top;\n",
       "    }\n",
       "\n",
       "    .dataframe thead th {\n",
       "        text-align: right;\n",
       "    }\n",
       "</style>\n",
       "<table border=\"1\" class=\"dataframe\">\n",
       "  <thead>\n",
       "    <tr style=\"text-align: right;\">\n",
       "      <th></th>\n",
       "      <th>Close price</th>\n",
       "    </tr>\n",
       "    <tr>\n",
       "      <th>Date</th>\n",
       "      <th></th>\n",
       "    </tr>\n",
       "  </thead>\n",
       "  <tbody>\n",
       "    <tr>\n",
       "      <th>2020-10-09</th>\n",
       "      <td>14363.823077</td>\n",
       "    </tr>\n",
       "    <tr>\n",
       "      <th>2020-10-13</th>\n",
       "      <td>14115.715385</td>\n",
       "    </tr>\n",
       "    <tr>\n",
       "      <th>2020-10-14</th>\n",
       "      <td>14053.157692</td>\n",
       "    </tr>\n",
       "    <tr>\n",
       "      <th>2020-10-15</th>\n",
       "      <td>14041.153846</td>\n",
       "    </tr>\n",
       "    <tr>\n",
       "      <th>2020-10-16</th>\n",
       "      <td>14116.403846</td>\n",
       "    </tr>\n",
       "    <tr>\n",
       "      <th>...</th>\n",
       "      <td>...</td>\n",
       "    </tr>\n",
       "    <tr>\n",
       "      <th>2021-03-31</th>\n",
       "      <td>15815.634615</td>\n",
       "    </tr>\n",
       "    <tr>\n",
       "      <th>2021-04-05</th>\n",
       "      <td>15930.942308</td>\n",
       "    </tr>\n",
       "    <tr>\n",
       "      <th>2021-04-06</th>\n",
       "      <td>15960.865385</td>\n",
       "    </tr>\n",
       "    <tr>\n",
       "      <th>2021-04-07</th>\n",
       "      <td>16077.923077</td>\n",
       "    </tr>\n",
       "    <tr>\n",
       "      <th>2021-04-08</th>\n",
       "      <td>15996.000000</td>\n",
       "    </tr>\n",
       "  </tbody>\n",
       "</table>\n",
       "<p>119 rows × 1 columns</p>\n",
       "</div>"
      ],
      "text/plain": [
       "             Close price\n",
       "Date                    \n",
       "2020-10-09  14363.823077\n",
       "2020-10-13  14115.715385\n",
       "2020-10-14  14053.157692\n",
       "2020-10-15  14041.153846\n",
       "2020-10-16  14116.403846\n",
       "...                  ...\n",
       "2021-03-31  15815.634615\n",
       "2021-04-05  15930.942308\n",
       "2021-04-06  15960.865385\n",
       "2021-04-07  16077.923077\n",
       "2021-04-08  15996.000000\n",
       "\n",
       "[119 rows x 1 columns]"
      ]
     },
     "execution_count": 50,
     "metadata": {},
     "output_type": "execute_result"
    }
   ],
   "source": [
    "df.groupby(df.index).mean()"
   ]
  },
  {
   "cell_type": "code",
   "execution_count": 51,
   "id": "b0f90cfe",
   "metadata": {},
   "outputs": [
    {
     "data": {
      "text/plain": [
       "(3094, 1)"
      ]
     },
     "execution_count": 51,
     "metadata": {},
     "output_type": "execute_result"
    }
   ],
   "source": [
    "df.shape"
   ]
  },
  {
   "cell_type": "code",
   "execution_count": null,
   "id": "d801ccd6",
   "metadata": {},
   "outputs": [],
   "source": []
  }
 ],
 "metadata": {
  "kernelspec": {
   "display_name": "Python 3",
   "language": "python",
   "name": "python3"
  },
  "language_info": {
   "codemirror_mode": {
    "name": "ipython",
    "version": 3
   },
   "file_extension": ".py",
   "mimetype": "text/x-python",
   "name": "python",
   "nbconvert_exporter": "python",
   "pygments_lexer": "ipython3",
   "version": "3.8.8"
  }
 },
 "nbformat": 4,
 "nbformat_minor": 5
}
